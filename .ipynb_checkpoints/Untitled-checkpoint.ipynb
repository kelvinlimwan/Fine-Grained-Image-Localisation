{
 "cells": [
  {
   "cell_type": "code",
   "execution_count": 1,
   "id": "de1eb83d",
   "metadata": {},
   "outputs": [
    {
     "name": "stderr",
     "output_type": "stream",
     "text": [
      "Using TensorFlow backend.\n"
     ]
    }
   ],
   "source": [
    "### PACKAGES AND CONSTANTS\n",
    "import csv\n",
    "import numpy as np\n",
    "import cv2\n",
    "import os\n",
    "import matplotlib\n",
    "import matplotlib.pyplot as plt\n",
    "from tensorflow.keras import layers\n",
    "import pickle\n",
    "from copy import deepcopy\n",
    "from tensorflow import keras\n",
    "from scipy import ndimage \n",
    "from netvlad_keras import *\n",
    "\n",
    "ROOTPATH = './'\n",
    "IMG_HEIGHT = 490\n",
    "IMG_WIDTH = 680\n",
    "NUM_CHANNELS = 3"
   ]
  },
  {
   "cell_type": "code",
   "execution_count": 2,
   "id": "0e4a50c9",
   "metadata": {},
   "outputs": [
    {
     "name": "stdout",
     "output_type": "stream",
     "text": [
      "[-9.38067808  3.58271965]\n",
      "(7500, 245, 340, 3)\n"
     ]
    }
   ],
   "source": [
    "train_img_names = [] # list of train image names as strings\n",
    "train_img_labels = [] # list of train images labels as tuples (latitude, longitude)\n",
    "with open('COMP90086_2021_Project_train/train.csv') as train_csv:\n",
    "    reader = csv.reader(train_csv, delimiter=',')\n",
    "    next(reader) # skip header row\n",
    "    for row in reader:\n",
    "        name = row[0] # string\n",
    "        label = (float(row[1]), float(row[2])) # tuple\n",
    "        train_img_names.append(name)\n",
    "        train_img_labels.append(label)\n",
    "\n",
    "# train images stored as numpy array\n",
    "resize = 0.5\n",
    "IMG_HEIGHT = int(IMG_HEIGHT * resize)\n",
    "IMG_WIDTH = int(IMG_WIDTH * resize)\n",
    "train_size = (len(train_img_names), IMG_HEIGHT, IMG_WIDTH,NUM_CHANNELS )\n",
    "#print(train_images.shape)\n",
    "\n",
    "\n",
    "train_images = np.zeros(train_size, dtype='uint8')\n",
    "for i in range(len(train_img_names)):\n",
    "    name = train_img_names[i]\n",
    "    subpath = 'COMP90086_2021_Project_train/train/' + name + '.jpg'\n",
    "    img = cv2.imread(os.path.join(ROOTPATH, subpath))\n",
    "    img = cv2.resize(img,(IMG_WIDTH,IMG_HEIGHT))\n",
    "#     print(img.shape)\n",
    "    train_images[i] = img\n",
    "\n",
    "# train labels stored as numpy array\n",
    "train_labels = np.array(train_img_labels)\n",
    "print(train_labels[0])\n",
    "print(train_images.shape)\n",
    "\n",
    "test_img_names = [] # list of test image names as strings\n",
    "with open('COMP90086_2021_Project_test/imagenames.csv') as test_csv:\n",
    "    reader = csv.reader(test_csv, delimiter=',')\n",
    "    next(reader) # skip header row\n",
    "    for row in reader:\n",
    "        name = row[0] # string\n",
    "        test_img_names.append(name)\n",
    "\n",
    "# test images stored as numpy array\n",
    "test_size = (len(test_img_names), IMG_HEIGHT, IMG_WIDTH, NUM_CHANNELS)\n",
    "test_images = np.zeros(test_size, dtype='uint8')\n",
    "for i in range(len(test_img_names)):\n",
    "    name = test_img_names[i]\n",
    "    subpath = 'COMP90086_2021_Project_test/test/' + name + '.jpg'\n",
    "    img = cv2.imread(os.path.join(ROOTPATH, subpath))\n",
    "    img = cv2.resize(img,(IMG_WIDTH,IMG_HEIGHT))\n",
    "\n",
    "    \n",
    "    test_images[i] = img\n",
    "    \n",
    "# train_images = train_images.reshape(train_images.shape[0], 32, 32, 3).astype('float32')\n",
    "# test_images = test_images.reshape(test_images.shape[0], 32, 32, 3).astype('float32')\n"
   ]
  },
  {
   "cell_type": "code",
   "execution_count": 8,
   "id": "19a3b7ed",
   "metadata": {},
   "outputs": [
    {
     "name": "stdout",
     "output_type": "stream",
     "text": [
      "Model: \"sequential_5\"\n",
      "_________________________________________________________________\n",
      "Layer (type)                 Output Shape              Param #   \n",
      "=================================================================\n",
      "substract_average_5 (Substra (None, 245, 340, 3)       3         \n",
      "_________________________________________________________________\n",
      "conv2d_61 (Conv2D)           (None, 245, 340, 64)      1792      \n",
      "_________________________________________________________________\n",
      "conv2d_62 (Conv2D)           (None, 245, 340, 64)      36928     \n",
      "_________________________________________________________________\n",
      "max_pooling2d_17 (MaxPooling (None, 122, 170, 64)      0         \n",
      "_________________________________________________________________\n",
      "activation_17 (Activation)   (None, 122, 170, 64)      0         \n",
      "_________________________________________________________________\n",
      "conv2d_63 (Conv2D)           (None, 122, 170, 128)     73856     \n",
      "_________________________________________________________________\n",
      "conv2d_64 (Conv2D)           (None, 122, 170, 128)     147584    \n",
      "_________________________________________________________________\n",
      "max_pooling2d_18 (MaxPooling (None, 61, 85, 128)       0         \n",
      "_________________________________________________________________\n",
      "activation_18 (Activation)   (None, 61, 85, 128)       0         \n",
      "_________________________________________________________________\n",
      "conv2d_65 (Conv2D)           (None, 61, 85, 256)       295168    \n",
      "_________________________________________________________________\n",
      "conv2d_66 (Conv2D)           (None, 61, 85, 256)       590080    \n",
      "_________________________________________________________________\n",
      "conv2d_67 (Conv2D)           (None, 61, 85, 256)       590080    \n",
      "_________________________________________________________________\n",
      "max_pooling2d_19 (MaxPooling (None, 30, 42, 256)       0         \n",
      "_________________________________________________________________\n",
      "activation_19 (Activation)   (None, 30, 42, 256)       0         \n",
      "_________________________________________________________________\n",
      "conv2d_68 (Conv2D)           (None, 30, 42, 512)       1180160   \n",
      "_________________________________________________________________\n",
      "conv2d_69 (Conv2D)           (None, 30, 42, 512)       2359808   \n",
      "_________________________________________________________________\n",
      "conv2d_70 (Conv2D)           (None, 30, 42, 512)       2359808   \n",
      "_________________________________________________________________\n",
      "max_pooling2d_20 (MaxPooling (None, 15, 21, 512)       0         \n",
      "_________________________________________________________________\n",
      "activation_20 (Activation)   (None, 15, 21, 512)       0         \n",
      "_________________________________________________________________\n",
      "conv2d_71 (Conv2D)           (None, 15, 21, 512)       2359808   \n",
      "_________________________________________________________________\n",
      "conv2d_72 (Conv2D)           (None, 15, 21, 512)       2359808   \n",
      "_________________________________________________________________\n",
      "conv2d_73 (Conv2D)           (None, 15, 21, 512)       2359808   \n",
      "_________________________________________________________________\n",
      "lambda_17 (Lambda)           (None, 15, 21, 512)       0         \n",
      "_________________________________________________________________\n",
      "net_vlad_5 (NetVLAD)         (None, 32768)             65536     \n",
      "_________________________________________________________________\n",
      "lambda_18 (Lambda)           (None, 1, 32768)          0         \n",
      "_________________________________________________________________\n",
      "lambda_19 (Lambda)           (None, 1, 1, 32768)       0         \n",
      "_________________________________________________________________\n",
      "conv2d_75 (Conv2D)           (None, 1, 1, 4096)        134221824 \n",
      "_________________________________________________________________\n",
      "flatten_10 (Flatten)         (None, 4096)              0         \n",
      "_________________________________________________________________\n",
      "lambda_20 (Lambda)           (None, 4096)              0         \n",
      "=================================================================\n",
      "Total params: 149,002,051\n",
      "Trainable params: 149,002,048\n",
      "Non-trainable params: 3\n",
      "_________________________________________________________________\n"
     ]
    }
   ],
   "source": [
    "netvlad_model = NetVLADModel(input_shape=(IMG_HEIGHT, IMG_WIDTH, NUM_CHANNELS))\n",
    "netvlad_model.summary()"
   ]
  },
  {
   "cell_type": "code",
   "execution_count": 9,
   "id": "8aeaf4fa",
   "metadata": {},
   "outputs": [],
   "source": [
    "netvlad_model.load_weights('checkpoint/netvlad_weights.h5')\n",
    "netvlad_model.build()"
   ]
  },
  {
   "cell_type": "code",
   "execution_count": null,
   "id": "995e8c83",
   "metadata": {},
   "outputs": [],
   "source": [
    "train_features = netvlad_model.predict(train_images)\n",
    "print(train_features.shape)"
   ]
  },
  {
   "cell_type": "code",
   "execution_count": null,
   "id": "b1a83ccb",
   "metadata": {},
   "outputs": [],
   "source": [
    "test_features = netvlad_model.predict(test_images_ss)\n",
    "print(test_features.shape)"
   ]
  },
  {
   "cell_type": "markdown",
   "id": "66196eb3",
   "metadata": {},
   "source": [
    "## PREDICTION USING MLP"
   ]
  },
  {
   "cell_type": "code",
   "execution_count": null,
   "id": "dcaf28d9",
   "metadata": {},
   "outputs": [],
   "source": [
    "netvlad_prediction_model = keras.Sequential(\n",
    "    [\n",
    "        layers.Input((4096,)),\n",
    "        layers.Dense(128, activation='relu'),\n",
    "        layers.Dense(128, activation='relu'),\n",
    "        #layers.Dense(1499, activation='softmax') #classification\n",
    "        layers.Dense(2, activation='linear') #regression\n",
    "    ]\n",
    ")\n",
    "\n",
    "netvlad_prediction_model.summary()\n",
    "\n",
    "#compile model\n",
    "# parameters for classification\n",
    "#loss=keras.losses.SparseCategoricalCrossentropy(from_logits=False)\n",
    "#pred_model.compile(optimizer='adam', loss=[loss], metrics=['accuracy'])\n",
    "# parameters for regression\n",
    "netvlad_prediction_model.compile(optimizer='adam', loss='mean_absolute_error')"
   ]
  },
  {
   "cell_type": "code",
   "execution_count": null,
   "id": "891e6885",
   "metadata": {},
   "outputs": [],
   "source": [
    "netvlad_history = netvlad_prediction_model.fit(train_features, train_labels, verbose=1,\n",
    "                                               validation_split = 0.2, epochs=200, batch_size=100)"
   ]
  },
  {
   "cell_type": "code",
   "execution_count": null,
   "id": "9831c7c8",
   "metadata": {},
   "outputs": [],
   "source": [
    "plt.plot(netvlad_history.history['loss'], label='Train')\n",
    "plt.plot(netvlad_history.history['val_loss'], label='Test')\n",
    "plt.ylabel('Error')\n",
    "plt.xlabel('Epoch')\n",
    "plt.title('Training and testing losses')\n",
    "plt.legend()\n",
    "plt.show()"
   ]
  },
  {
   "cell_type": "code",
   "execution_count": null,
   "id": "bbb5353c",
   "metadata": {},
   "outputs": [],
   "source": [
    "test_predictions = netvlad_prediction_model.predict(test_features)\n",
    "print(test_predictions.shape)\n",
    "print(test_predictions[:3])"
   ]
  },
  {
   "cell_type": "code",
   "execution_count": null,
   "id": "a2739072",
   "metadata": {},
   "outputs": [],
   "source": [
    "header = ['id', 'x', 'y']\n",
    "with open(ROOTPATH + 'predictions_netvlad_mlp.csv', 'w', newline='') as predictions:\n",
    "    writer = csv.writer(predictions)\n",
    "    writer.writerow(header)\n",
    "    for i in range(len(test_img_names)):\n",
    "        img_name = test_img_names[i]\n",
    "        x_val, y_val = test_predictions[i]\n",
    "        data = [img_name, str(x_val), str(y_val)]\n",
    "        writer.writerow(data)\n",
    "    predictions.close()\n",
    "    "
   ]
  },
  {
   "cell_type": "markdown",
   "id": "fa666fb8",
   "metadata": {},
   "source": [
    "## PREDICTION USING K NEAREST NEIGHBOURS"
   ]
  },
  {
   "cell_type": "code",
   "execution_count": null,
   "id": "36eda705",
   "metadata": {},
   "outputs": [],
   "source": [
    "neighbours_model = NearestNeighbors(n_neighbors=1, algorithm='brute', metric='euclidean').fit(train_features)"
   ]
  },
  {
   "cell_type": "code",
   "execution_count": null,
   "id": "227a658e",
   "metadata": {},
   "outputs": [],
   "source": [
    "distances, indices = neighbours_model.kneighbors(test_features)\n",
    "print(indices)"
   ]
  },
  {
   "cell_type": "code",
   "execution_count": null,
   "id": "01cff47f",
   "metadata": {},
   "outputs": [],
   "source": [
    "test_labels = []\n",
    "for i in indices:\n",
    "    label = train_img_labels[i]\n",
    "    test_labels.append(label)"
   ]
  },
  {
   "cell_type": "code",
   "execution_count": null,
   "id": "9137fbf2",
   "metadata": {},
   "outputs": [],
   "source": [
    "header = ['id', 'x', 'y']\n",
    "with open(ROOTPATH + 'predictions_netvlad_knn.csv', 'w', newline='') as predictions:\n",
    "    writer = csv.writer(predictions)\n",
    "    writer.writerow(header)\n",
    "    for i in range(len(test_img_names)):\n",
    "        img_name = test_img_names[i]\n",
    "        x_val, y_val = test_labels[i]\n",
    "        data = [img_name, str(x_val), str(y_val)]\n",
    "        writer.writerow(data)\n",
    "    predictions.close()\n",
    "    "
   ]
  }
 ],
 "metadata": {
  "kernelspec": {
   "display_name": "Python 3 (ipykernel)",
   "language": "python",
   "name": "python3"
  },
  "language_info": {
   "codemirror_mode": {
    "name": "ipython",
    "version": 3
   },
   "file_extension": ".py",
   "mimetype": "text/x-python",
   "name": "python",
   "nbconvert_exporter": "python",
   "pygments_lexer": "ipython3",
   "version": "3.7.10"
  }
 },
 "nbformat": 4,
 "nbformat_minor": 5
}
